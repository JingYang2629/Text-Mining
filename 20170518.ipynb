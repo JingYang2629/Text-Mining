{
 "cells": [
  {
   "cell_type": "code",
   "execution_count": 22,
   "metadata": {
    "collapsed": false
   },
   "outputs": [],
   "source": [
    "import nltk\n",
    "import pandas as pd\n",
    "from nltk import sent_tokenize,word_tokenize"
   ]
  },
  {
   "cell_type": "code",
   "execution_count": 42,
   "metadata": {
    "collapsed": false
   },
   "outputs": [],
   "source": [
    "#Get lists of positive and negative words\n",
    "def get_words(url):\n",
    "    import requests\n",
    "    words = requests.get(url).content.decode('latin-1')\n",
    "    word_list = words.split('\\n')\n",
    "    index = 0\n",
    "    while index < len(word_list):\n",
    "        word = word_list[index]\n",
    "        if ';' in word or not word:\n",
    "            word_list.pop(index)\n",
    "        else:\n",
    "            index+=1\n",
    "    return word_list\n",
    "\n",
    "p_url = 'http://ptrckprry.com/course/ssd/data/positive-words.txt'\n",
    "n_url = 'http://ptrckprry.com/course/ssd/data/negative-words.txt'\n",
    "positive_words = get_words(p_url)\n",
    "negative_words = get_words(n_url)\n",
    "\n",
    "def get_pos_neg_ratio(sent, positive_words, negative_words):\n",
    "    cpos=0\n",
    "    cneg=0\n",
    "    for word in sent:\n",
    "        if len(word) > 1:\n",
    "            if not word[1] in ['JJ','JJR','JJS']:\n",
    "                continue\n",
    "            if word[0] in positive_words:\n",
    "                cpos += 1\n",
    "            if word[0] in negative_words:\n",
    "                cneg += 1\n",
    "    total_words = len(sent)\n",
    "    ppct = cpos/total_words *100\n",
    "    npct = cneg/total_words * 100\n",
    "    if cneg == 0:\n",
    "        p_n_t = 0\n",
    "    else:\n",
    "        p_n_t = cpos/cneg\n",
    "    return ppct,npct,p_n_t\n",
    "\n",
    "def get_entity_names(text):\n",
    "    sentences = nltk.sent_tokenize(text)\n",
    "\n",
    "    def extract_entity_names(t):\n",
    "        entity_names = []\n",
    "\n",
    "        if hasattr(t, 'label') and t.label:\n",
    "            if t.label() == 'NE':\n",
    "                entity_names.append(' '.join([child[0] for child in t]))\n",
    "            else:\n",
    "                for child in t:\n",
    "                    entity_names.extend(extract_entity_names(child))\n",
    "\n",
    "        return entity_names\n",
    "            \n",
    "\n",
    "    entity_sent_sentiment = pd.DataFrame(columns=['sentence','entity names', 'postive ratio', 'negative ratio', 'pos/neg tatio'])\n",
    "    for sentence in sentences:\n",
    "        tokenized_sentence = nltk.word_tokenize(sentence)\n",
    "        tagged_sentence = nltk.pos_tag(tokenized_sentence)\n",
    "        chunked_sentence = nltk.ne_chunk_sents([tagged_sentence], binary=True)\n",
    "        for tree in chunked_sentence:\n",
    "            print(tree)\n",
    "            name_entity = extract_entity_names(tree)\n",
    "            if len(name_entity) > 0:\n",
    "                ppct,npct,p_n_t = get_pos_neg_ratio(tree, positive_words, negative_words)\n",
    "                entity_sent_sentiment = entity_sent_sentiment.append({'sentence':sentence,'entity names':set(name_entity), 'postive ratio': ppct, 'negative ratio': npct, 'pos/neg tatio': p_n_t},ignore_index=True)   \n",
    "\n",
    "    return entity_sent_sentiment"
   ]
  },
  {
   "cell_type": "code",
   "execution_count": null,
   "metadata": {
    "collapsed": false
   },
   "outputs": [],
   "source": [
    "import os\n",
    "x = os.listdir('./news')\n",
    "for files in x:\n",
    "    text_file = open('./news/'+files, \"r\").read()\n",
    "    text_pd = get_entity_names(text_file)\n",
    "    text_pd.to_csv('./sent/'+files[:-3]+'csv')"
   ]
  },
  {
   "cell_type": "code",
   "execution_count": null,
   "metadata": {
    "collapsed": true
   },
   "outputs": [],
   "source": []
  }
 ],
 "metadata": {
  "anaconda-cloud": {},
  "kernelspec": {
   "display_name": "Python [Root]",
   "language": "python",
   "name": "Python [Root]"
  },
  "language_info": {
   "codemirror_mode": {
    "name": "ipython",
    "version": 3
   },
   "file_extension": ".py",
   "mimetype": "text/x-python",
   "name": "python",
   "nbconvert_exporter": "python",
   "pygments_lexer": "ipython3",
   "version": "3.5.2"
  }
 },
 "nbformat": 4,
 "nbformat_minor": 0
}
