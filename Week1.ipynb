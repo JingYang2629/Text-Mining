{
  "nbformat": 4,
  "nbformat_minor": 0,
  "metadata": {
    "colab": {
      "name": "Week1.ipynb",
      "provenance": [],
      "collapsed_sections": [],
      "include_colab_link": true
    },
    "kernelspec": {
      "name": "python3",
      "display_name": "Python 3"
    }
  },
  "cells": [
    {
      "cell_type": "markdown",
      "metadata": {
        "id": "view-in-github",
        "colab_type": "text"
      },
      "source": [
        "<a href=\"https://colab.research.google.com/github/JingYang2629/Text-Mining/blob/master/Week1.ipynb\" target=\"_parent\"><img src=\"https://colab.research.google.com/assets/colab-badge.svg\" alt=\"Open In Colab\"/></a>"
      ]
    },
    {
      "cell_type": "code",
      "metadata": {
        "id": "r2VTnj4zEofS",
        "colab_type": "code",
        "colab": {}
      },
      "source": [
        "#80\n",
        "class Solution:\n",
        "    def removeDuplicates(self, nums) -> int:\n",
        "        j = 1\n",
        "        for i in range(2, len(nums)):\n",
        "            if nums[i] != nums[j-1]:\n",
        "                j += 1\n",
        "                nums[j] = nums[i]\n",
        "        \n",
        "        return j + 1\n"
      ],
      "execution_count": 0,
      "outputs": []
    },
    {
      "cell_type": "code",
      "metadata": {
        "id": "2f_AG72TDZTv",
        "colab_type": "code",
        "colab": {}
      },
      "source": [
        "\n",
        "## for i, item in enumerate(nums):\n",
        "## for n in nums:\n",
        "\n"
      ],
      "execution_count": 0,
      "outputs": []
    },
    {
      "cell_type": "code",
      "metadata": {
        "id": "0hovdGciEgGv",
        "colab_type": "code",
        "colab": {}
      },
      "source": [
        "#189\n",
        "class Solution:\n",
        "    def rotate(self, nums):\n",
        "        \"\"\"\n",
        "        Do not return anything, modify nums in-place instead.\n",
        "        \"\"\"\n",
        "        while k > 0:\n",
        "            nums[:] = [nums[-1]] + nums[0:-1]\n",
        "            k -= 1\n"
      ],
      "execution_count": 0,
      "outputs": []
    },
    {
      "cell_type": "code",
      "metadata": {
        "id": "9qU61H05DIos",
        "colab_type": "code",
        "colab": {}
      },
      "source": [
        "#26\n",
        "class Solution(object):\n",
        "    def removeDuplicates(self, nums):\n",
        "        \"\"\"\n",
        "        :type nums: List[int]\n",
        "        :rtype: int\n",
        "        \"\"\"\n",
        "        if len(nums) == 0:\n",
        "            return 0\n",
        "        \n",
        "        else:\n",
        "            \n",
        "            j = 0\n",
        "            temp = nums[0] \n",
        "            for i in range(1,len(nums)): ## for item in nums[1:]:\n",
        "                if nums[i] != temp:\n",
        "                    j += 1\n",
        "                    nums[j] = nums[i]\n",
        "                    temp = nums[i]\n",
        "\n",
        "            return j + 1"
      ],
      "execution_count": 0,
      "outputs": []
    },
    {
      "cell_type": "code",
      "metadata": {
        "id": "j8ixttESIvqk",
        "colab_type": "code",
        "colab": {}
      },
      "source": [
        ""
      ],
      "execution_count": 0,
      "outputs": []
    }
  ]
}