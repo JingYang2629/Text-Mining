{
 "cells": [
  {
   "cell_type": "code",
   "execution_count": 4,
   "metadata": {
    "collapsed": false
   },
   "outputs": [],
   "source": [
    "import codecs\n",
    "import requests\n",
    "import urllib.request\n",
    "import bs4\n",
    "from bs4 import BeautifulSoup\n",
    "import pandas as pd\n",
    "import re\n",
    "\n",
    "\n",
    "\n",
    "#file_name = '/Users/oamtck/Desktop/Text Mining/HTML files/html_from_pdf_1.htm'\n",
    "#f = codecs.open(file_name, 'r')\n",
    "#texts = f.read()\n",
    "#soup = bs4.BeautifulSoup(texts, 'html.parser')\n",
    "#get only body\n",
    "#soup2 = soup.find_all('body')[0]\n"
   ]
  },
  {
   "cell_type": "code",
   "execution_count": 2,
   "metadata": {
    "collapsed": false
   },
   "outputs": [],
   "source": [
    "def delete_image(soup):\n",
    "    for image in soup.find_all(\"img\"):\n",
    "        image.extract()\n",
    "    return soup\n",
    "\n",
    "\n",
    "def get_table(soup):\n",
    "    result=''\n",
    "    for table in soup.find_all('table'):\n",
    "        for line in table.findAll('tr'):\n",
    "            k=''\n",
    "            for l in line.findAll('td'):\n",
    "                if l.find('sup'):\n",
    "                   l.find('sup').extract()\n",
    "                k = k + l.getText() + '  |  '\n",
    "            result = result + k + '\\n'\n",
    "        result = result + '\\n\\n\\n'\n",
    "    return result\n",
    "\n",
    "\n",
    "def getTexts(soup):\n",
    "    result = ''\n",
    "    l = len(soup.find_all('p'))\n",
    "    for i in range(l):\n",
    "        result = result + soup.find_all('p')[i].get_text() + '\\n'\n",
    "    return result\n",
    "     \n",
    "    \n",
    "def generateData(path):\n",
    "    import codecs\n",
    "    import requests\n",
    "    import urllib.request\n",
    "    import bs4\n",
    "    from bs4 import BeautifulSoup\n",
    "    import re\n",
    "\n",
    "    file_name = path\n",
    "    f = codecs.open(file_name, 'r')\n",
    "    texts = f.read()\n",
    "    soup = bs4.BeautifulSoup(texts, 'html.parser')\n",
    "    #get only body\n",
    "    soup = soup.find_all('body')[0]\n",
    "    soup = delete_image(soup)\n",
    "    table_str = get_table(soup)\n",
    "    for table in soup.find_all(\"table\"):\n",
    "        table.extract()\n",
    "    plain_str = getTexts(soup)\n",
    "    return plain_str + '\\n\\n\\n' + table_str"
   ]
  },
  {
   "cell_type": "code",
   "execution_count": 19,
   "metadata": {
    "collapsed": true
   },
   "outputs": [],
   "source": [
    "def writeText():\n",
    "    # 110 files\n",
    "    for i in range(1,111):\n",
    "        if i != 56:\n",
    "            tmp = '/Users/oamtck/Desktop/Text Mining/HTML files/html_from_pdf_'+str(i)+'.htm'\n",
    "            text = generateData(tmp)\n",
    "            fileTXT  = '/Users/oamtck/Desktop/Text Mining/Txt files/text_HTML'+str(i)+'.txt'\n",
    "            file = open(fileTXT, \"w\") \n",
    "            file.write(text) \n",
    "            file.close()"
   ]
  },
  {
   "cell_type": "code",
   "execution_count": 20,
   "metadata": {
    "collapsed": true
   },
   "outputs": [],
   "source": [
    "writeText()"
   ]
  },
  {
   "cell_type": "code",
   "execution_count": null,
   "metadata": {
    "collapsed": true
   },
   "outputs": [],
   "source": []
  }
 ],
 "metadata": {
  "kernelspec": {
   "display_name": "Python 3",
   "language": "python",
   "name": "python3"
  },
  "language_info": {
   "codemirror_mode": {
    "name": "ipython",
    "version": 3
   },
   "file_extension": ".py",
   "mimetype": "text/x-python",
   "name": "python",
   "nbconvert_exporter": "python",
   "pygments_lexer": "ipython3",
   "version": "3.6.0"
  }
 },
 "nbformat": 4,
 "nbformat_minor": 2
}
